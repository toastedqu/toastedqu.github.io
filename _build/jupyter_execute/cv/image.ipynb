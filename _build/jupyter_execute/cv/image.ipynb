{
 "cells": [
  {
   "cell_type": "markdown",
   "id": "40f2b303",
   "metadata": {},
   "source": [
    "# Image Formation and Representation**\n",
    "## Basics of Image Formation\n",
    "## Camera Models: Pinhole, Orthographic, Perspective\n",
    "## Image Sensors and Types\n",
    "## Image Representation: Grayscale, Color, and Multispectral Images\n",
    "## Homogeneous Coordinates and Projective Geometry\n",
    "\n",
    "# Digital Image Processing\n",
    "## Image Enhancement Techniques\n",
    "### Histogram Equalization\n",
    "### Contrast Adjustment\n",
    "### Spatial Filtering\n",
    "## Image Restoration\n",
    "### Noise Models\n",
    "### Deconvolution\n",
    "## Edge Detection\n",
    "### Canny, Sobel, and Prewitt Operators\n",
    "## Image Segmentation\n",
    "### Thresholding Methods\n",
    "### Region-Based Segmentation\n",
    "### Clustering Techniques (e.g., K-means, Mean-Shift)\n",
    "## Morphological Operations\n",
    "\n",
    "# Feature Detection and Description\n",
    "## Point Features: Harris, Shi-Tomasi, FAST\n",
    "## Scale-Invariant Feature Transform (SIFT)\n",
    "## Speeded-Up Robust Features (SURF)\n",
    "## Binary Descriptors: ORB, BRIEF, BRISK\n",
    "## Keypoint Matching Techniques\n",
    "\n",
    "# Image Transformation and Registration\n",
    "## Geometric Transformations: Affine, Homography\n",
    "## Image Alignment Techniques\n",
    "## RANSAC and Robust Estimation\n",
    "## Image Stitching and Panorama Creation\n",
    "\n",
    "# Multi-View Geometry\n",
    "## Epipolar Geometry and the Fundamental Matrix\n",
    "## Stereo Vision\n",
    "### Depth Estimation and Disparity Maps\n",
    "## Structure from Motion (SfM)\n",
    "## Camera Calibration\n",
    "## 3D Reconstruction from Multiple Images"
   ]
  }
 ],
 "metadata": {
  "jupytext": {
   "formats": "md:myst",
   "text_representation": {
    "extension": ".md",
    "format_name": "myst"
   }
  },
  "kernelspec": {
   "display_name": "Python 3",
   "language": "python",
   "name": "python3"
  },
  "language_info": {
   "codemirror_mode": {
    "name": "ipython",
    "version": 3
   },
   "file_extension": ".py",
   "mimetype": "text/x-python",
   "name": "python",
   "nbconvert_exporter": "python",
   "pygments_lexer": "ipython3",
   "version": "3.10.12"
  },
  "source_map": [
   11
  ]
 },
 "nbformat": 4,
 "nbformat_minor": 5
}