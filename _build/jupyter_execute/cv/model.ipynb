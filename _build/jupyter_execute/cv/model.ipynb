{
 "cells": [
  {
   "cell_type": "markdown",
   "id": "981fe3f2",
   "metadata": {},
   "source": [
    "# CNN\n",
    "## CNN Architectures: LeNet, AlexNet, VGG, ResNet, Inception\n",
    "## Transfer Learning and Pretrained Models\n",
    "## Data Augmentation Techniques\n",
    "## Regularization Techniques: Dropout, Batch Normalization\n",
    "## Fine-Tuning and Model Optimization\n",
    "\n",
    "# ViT\n",
    "\n",
    "# Image Generation\n",
    "## Generative Adversarial Networks (GANs)\n",
    "## Autoencoders and Variational Autoencoders (VAEs)\n",
    "## Attention Mechanisms in CNNs\n",
    "## Capsule Networks\n",
    "## Multi-Task Learning in CNNs\n",
    "\n",
    "# Object Detection\n",
    "## Region-Based CNNs (R-CNN, Fast R-CNN, Faster R-CNN)\n",
    "## Single Shot Multibox Detector (SSD)\n",
    "## You Only Look Once (YOLO)\n",
    "## RetinaNet\n",
    "## Evaluation Metrics: mAP, IOU\n",
    "\n",
    "# Image Segmentation\n",
    "## U-Net Architecture\n",
    "## Mask R-CNN\n",
    "## DeepLab Series\n",
    "## Segmentation Loss Functions\n",
    "## Applications in Medical Imaging and Autonomous Driving\n",
    "\n",
    "# 3D Vision\n",
    "## 3D Object Detection\n",
    "## Depth Estimation with CNNs\n",
    "## Point Cloud Processing: PointNet, PointCNN\n",
    "## 3D Reconstruction with Neural Networks\n",
    "## Applications in AR/VR and Robotics\n",
    "\n",
    "# Video Analysis\n",
    "## Action Recognition using CNNs and RNNs\n",
    "## 3D Convolutional Networks (C3D)\n",
    "## Spatiotemporal Models\n",
    "## Video Captioning and Description\n",
    "## Real-Time Video Analysis"
   ]
  }
 ],
 "metadata": {
  "jupytext": {
   "formats": "md:myst",
   "text_representation": {
    "extension": ".md",
    "format_name": "myst"
   }
  },
  "kernelspec": {
   "display_name": "Python 3",
   "language": "python",
   "name": "python3"
  },
  "language_info": {
   "codemirror_mode": {
    "name": "ipython",
    "version": 3
   },
   "file_extension": ".py",
   "mimetype": "text/x-python",
   "name": "python",
   "nbconvert_exporter": "python",
   "pygments_lexer": "ipython3",
   "version": "3.10.12"
  },
  "source_map": [
   11
  ]
 },
 "nbformat": 4,
 "nbformat_minor": 5
}