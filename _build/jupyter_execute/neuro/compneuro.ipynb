{
 "cells": [
  {
   "cell_type": "markdown",
   "id": "419f200f",
   "metadata": {},
   "source": [
    "# Computational Neuroscience\n",
    "Why: to understand the brain using computational models.\n",
    "\n",
    "What:\n",
    "- **Descriptive models** (WHAT)\n",
    "    - **Encoding**: how do neurons respond to external stimuli?\n",
    "    - **Decoding**: how can we extract info from neurons?\n",
    "- **Mechanistic models** (HOW): simulation of a single neuron / a network of neurons.\n",
    "- **Interpretive models** (WHY): what are the computational principles which explain why brain circuits operate in a certain way.\n",
    "\n",
    "# Basic Neurobiology\n",
    "## Receptive Field\n",
    "What: specific properties of a sensory stimulus that generate a strong response from neurons.\n",
    "\n",
    "# Neural Encoding\n",
    "\n",
    "# Neural Decoding\n",
    "\n",
    "# Information Theory\n",
    "\n",
    "# Single Neuron Models\n",
    "\n",
    "# Synapse & Network Models\n",
    "\n",
    "# Synaptic Plasticity & Learning\n",
    "\n",
    "# Reinforcement Learning"
   ]
  }
 ],
 "metadata": {
  "jupytext": {
   "formats": "md:myst",
   "text_representation": {
    "extension": ".md",
    "format_name": "myst"
   }
  },
  "kernelspec": {
   "display_name": "Python 3",
   "language": "python",
   "name": "python3"
  },
  "language_info": {
   "codemirror_mode": {
    "name": "ipython",
    "version": 3
   },
   "file_extension": ".py",
   "mimetype": "text/x-python",
   "name": "python",
   "nbconvert_exporter": "python",
   "pygments_lexer": "ipython3",
   "version": "3.10.12"
  },
  "source_map": [
   11
  ]
 },
 "nbformat": 4,
 "nbformat_minor": 5
}