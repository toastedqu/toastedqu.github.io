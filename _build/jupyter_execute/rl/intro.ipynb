{
 "cells": [
  {
   "cell_type": "markdown",
   "id": "1eeaa77c",
   "metadata": {},
   "source": [
    "# Overview\n",
    "## Agent, Environment, Policy, Reward Signal\n",
    "\n",
    "# Concepts\n",
    "## On-Policy vs. Off-Policy Learning\n",
    "   - Differences between On-Policy and Off-Policy Learning\n",
    "   - Behavior vs. Target Policies\n",
    "   - Importance Sampling\n",
    "   - Off-Policy Evaluation\n",
    "\n",
    "\n",
    "## Exploration vs. Exploitation Trade-off\n",
    "### ε-Greedy Methods\n",
    "### Softmax Action Selection\n",
    "### Upper Confidence Bound (UCB)\n",
    "### Intrinsic Motivation and Curiosity-Driven Exploration\n",
    "\n",
    "## Transfer Learning in RL\n",
    "### Multi-task Learning in RL\n",
    "### Zero-Shot Transfer in RL\n",
    "### Meta-Reinforcement Learning\n",
    "### Domain Adaptation and Generalization"
   ]
  }
 ],
 "metadata": {
  "jupytext": {
   "formats": "md:myst",
   "text_representation": {
    "extension": ".md",
    "format_name": "myst"
   }
  },
  "kernelspec": {
   "display_name": "Python 3",
   "language": "python",
   "name": "python3"
  },
  "language_info": {
   "codemirror_mode": {
    "name": "ipython",
    "version": 3
   },
   "file_extension": ".py",
   "mimetype": "text/x-python",
   "name": "python",
   "nbconvert_exporter": "python",
   "pygments_lexer": "ipython3",
   "version": "3.10.12"
  },
  "source_map": [
   11
  ]
 },
 "nbformat": 4,
 "nbformat_minor": 5
}