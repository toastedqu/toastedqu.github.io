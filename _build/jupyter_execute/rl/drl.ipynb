{
 "cells": [
  {
   "cell_type": "markdown",
   "id": "8b4cdd96",
   "metadata": {},
   "source": [
    "# Deep Reinforcement Learning\n",
    "10. **Introduction to Deep Reinforcement Learning**\n",
    "    - Motivation for Deep RL\n",
    "    - Difference between Deep RL and Traditional RL\n",
    "    - Applications of Deep RL\n",
    "\n",
    "11. **Deep Q-Networks (DQN)**\n",
    "    - Overview of Deep Q-Networks\n",
    "    - Experience Replay\n",
    "    - Fixed Q-Targets\n",
    "    - Network Architecture and Training\n",
    "    - Double DQN\n",
    "    - Dueling DQN\n",
    "    - Extensions and Variants\n",
    "\n",
    "12. **Policy Gradient Methods in Deep RL**\n",
    "    - Deterministic Policy Gradient (DPG)\n",
    "    - Deep Deterministic Policy Gradient (DDPG)\n",
    "    - Trust Region Policy Optimization (TRPO)\n",
    "    - Proximal Policy Optimization (PPO)\n",
    "    - Soft Actor-Critic (SAC)\n",
    "    - Asynchronous Advantage Actor-Critic (A3C)\n",
    "  \n",
    "13. **Model-Based Deep RL**\n",
    "    - Overview of Model-Based RL\n",
    "    - Planning in Deep RL\n",
    "    - Model-Based Policy Optimization (MBPO)\n",
    "    - World Models\n",
    "  \n",
    "14. **Multi-Agent Reinforcement Learning (MARL)**\n",
    "    - Introduction to MARL\n",
    "    - Cooperative vs. Competitive Environments\n",
    "    - Independent vs. Joint Learning\n",
    "    - Centralized Training and Decentralized Execution (CTDE)\n",
    "    - Multi-Agent Deep Deterministic Policy Gradient (MADDPG)\n",
    "    - Exploration Challenges in MARL\n",
    "\n",
    "15. **Hierarchical Reinforcement Learning**\n",
    "    - Motivation for Hierarchical RL\n",
    "    - Options Framework\n",
    "    - Temporal Abstraction in RL\n",
    "    - Hierarchical Actor-Critic Methods"
   ]
  }
 ],
 "metadata": {
  "jupytext": {
   "formats": "md:myst",
   "text_representation": {
    "extension": ".md",
    "format_name": "myst"
   }
  },
  "kernelspec": {
   "display_name": "Python 3",
   "language": "python",
   "name": "python3"
  },
  "language_info": {
   "codemirror_mode": {
    "name": "ipython",
    "version": 3
   },
   "file_extension": ".py",
   "mimetype": "text/x-python",
   "name": "python",
   "nbconvert_exporter": "python",
   "pygments_lexer": "ipython3",
   "version": "3.10.12"
  },
  "source_map": [
   11
  ]
 },
 "nbformat": 4,
 "nbformat_minor": 5
}