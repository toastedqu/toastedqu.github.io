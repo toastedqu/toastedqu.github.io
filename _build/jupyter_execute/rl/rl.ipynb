{
 "cells": [
  {
   "cell_type": "markdown",
   "id": "14aa0934",
   "metadata": {},
   "source": [
    "# Markov Decision Processes (MDP)\n",
    "## Definition and Elements of MDPs\n",
    "## Finite MDPs\n",
    "## State, Action, and Reward Functions\n",
    "## Policy and Value Functions\n",
    "### State-Value Function\n",
    "### Action-Value Function\n",
    "## Optimality in MDPs\n",
    "## Bellman Equations\n",
    "\n",
    "# Dynamic Programming\n",
    "## Principle of Optimality\n",
    "## Policy Evaluation\n",
    "## Policy Improvement\n",
    "## Policy Iteration\n",
    "## Value Iteration\n",
    "## Asynchronous Dynamic Programming\n",
    "\n",
    "# Monte Carlo Methods\n",
    "## Monte Carlo Prediction\n",
    "## Monte Carlo Estimation of Action Values\n",
    "## Exploring Starts\n",
    "## Incremental Implementation\n",
    "## Off-Policy Methods\n",
    "\n",
    "# Temporal-Difference Learning\n",
    "## TD Prediction\n",
    "## Advantages of TD Methods\n",
    "## SARSA (State-Action-Reward-State-Action)\n",
    "## Q-learning\n",
    "## Expected SARSA\n",
    "## Off-Policy TD Control\n",
    "\n",
    "# Eligibility Traces\n",
    "## Introduction to Eligibility Traces\n",
    "## n-step TD Prediction\n",
    "## TD(λ)\n",
    "## SARSA(λ) and Q(λ)\n",
    "## Forward vs. Backward View of TD(λ)\n",
    "\n",
    "# Planning and Learning with Tabular Methods\n",
    "## Dyna-Q and Dyna-Q+\n",
    "## Prioritized Sweeping\n",
    "## Integrated Planning, Acting, and Learning\n",
    "\n",
    "# Function Approximation\n",
    "## Importance of Function Approximation in RL\n",
    "## Linear Function Approximation\n",
    "## Nonlinear Function Approximation\n",
    "## Policy Gradient Methods\n",
    "### REINFORCE Algorithm\n",
    "### Actor-Critic Methods\n",
    "## Bias-Variance Tradeoff"
   ]
  }
 ],
 "metadata": {
  "jupytext": {
   "formats": "md:myst",
   "text_representation": {
    "extension": ".md",
    "format_name": "myst"
   }
  },
  "kernelspec": {
   "display_name": "Python 3",
   "language": "python",
   "name": "python3"
  },
  "language_info": {
   "codemirror_mode": {
    "name": "ipython",
    "version": 3
   },
   "file_extension": ".py",
   "mimetype": "text/x-python",
   "name": "python",
   "nbconvert_exporter": "python",
   "pygments_lexer": "ipython3",
   "version": "3.10.12"
  },
  "source_map": [
   11
  ]
 },
 "nbformat": 4,
 "nbformat_minor": 5
}