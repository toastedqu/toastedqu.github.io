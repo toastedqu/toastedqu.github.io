{
 "cells": [
  {
   "cell_type": "markdown",
   "id": "4c782648",
   "metadata": {},
   "source": [
    "# Loss\n",
    "# Regression\n",
    "## Mean Squared Error (MSE)\n",
    "## Mean Absolute Error (MAE)\n",
    "## Mean Absolute Percentage Error (MAPE)\n",
    "## Mean Squared Logarithmic Error (MSLE)\n",
    "## Huber Loss\n",
    "## Quantile Loss\n",
    "## Log-Cosh Loss\n",
    "## Tukey's Biweight Loss\n",
    "\n",
    "# Classification (Binary)\n",
    "## Binary Cross-Entropy\n",
    "## Hinge Loss\n",
    "## Squared Hinge Loss\n",
    "\n",
    "# Classification (Multiclass)\n",
    "## Categorical Cross-Entropy\n",
    "## Sparse Categorical Cross-Entropy\n",
    "## Kullback-Leibler Divergence (KL Divergence)\n",
    "## Focal Loss\n",
    "## Binary Cross-Entropy for Multilabel Classification\n",
    "\n",
    "# Ranking & Similarity\n",
    "## Margin Ranking Loss\n",
    "## Hinge Embedding Loss\n",
    "## Contrastive Loss\n",
    "## Triplet Loss\n",
    "## Cosine Similarity Loss\n",
    "## Euclidean Distance Loss\n",
    "\n",
    "# Generative Model\n",
    "## Adversarial Loss\n",
    "## Wasserstein Loss\n",
    "## Least Squares GAN Loss (LSGAN)\n",
    "## Reconstruction Loss\n",
    "## KL Divergence for VAEs\n",
    "\n",
    "# Sequence Model\n",
    "## Connectionist Temporal Classification (CTC) Loss\n",
    "## Sequence Loss (Seq2Seq)\n",
    "\n",
    "# Segmentation\n",
    "## Dice Loss\n",
    "## Jaccard Loss (Intersection over Union, IoU)\n",
    "## Tversky Loss\n",
    "## Generalized Dice Loss\n",
    "\n",
    "# Object Detection\n",
    "## YOLO Loss\n",
    "## SSD Loss\n",
    "## Faster R-CNN Loss\n",
    "## Focal Loss for Dense Object Detection"
   ]
  }
 ],
 "metadata": {
  "jupytext": {
   "formats": "md:myst",
   "text_representation": {
    "extension": ".md",
    "format_name": "myst"
   }
  },
  "kernelspec": {
   "display_name": "Python 3",
   "language": "python",
   "name": "python3"
  },
  "language_info": {
   "codemirror_mode": {
    "name": "ipython",
    "version": 3
   },
   "file_extension": ".py",
   "mimetype": "text/x-python",
   "name": "python",
   "nbconvert_exporter": "python",
   "pygments_lexer": "ipython3",
   "version": "3.10.12"
  },
  "source_map": [
   11
  ]
 },
 "nbformat": 4,
 "nbformat_minor": 5
}