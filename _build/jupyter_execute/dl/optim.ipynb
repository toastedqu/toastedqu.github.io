{
 "cells": [
  {
   "cell_type": "markdown",
   "id": "67893fb6",
   "metadata": {},
   "source": [
    "# Optimizer\n",
    "\n",
    "## Gradient Descent\n",
    "### Stochastic Gradient Descent (SGD)\n",
    "### Mini-batch Gradient Descent\n",
    "### Batch Gradient Descent\n",
    "\n",
    "## Momentum\n",
    "### Momentum\n",
    "### Nesterov Accelerated Gradient (NAG)\n",
    "\n",
    "## Adaptive Learning Rate\n",
    "### Adagrad (Adaptive Gradient Algorithm)\n",
    "### Adadelta\n",
    "### RMSprop (Root Mean Square Propagation)\n",
    "### Adam (Adaptive Moment Estimation)\n",
    "### AdamW (Adam with Weight Decay)\n",
    "### Nadam (Nesterov-accelerated Adaptive Moment Estimation)\n",
    "### AdaMax\n",
    "### AMSGrad\n",
    "\n",
    "## Second-Order\n",
    "### L-BFGS (Limited-memory Broyden-Fletcher-Goldfarb-Shanno)\n",
    "### Hessian-Free Optimization\n",
    "\n",
    "## Evolutionary\n",
    "### Genetic Algorithms\n",
    "### Particle Swarm Optimization (PSO)\n",
    "### Differential Evolution (DE)\n",
    "### Covariance Matrix Adaptation Evolution Strategy (CMA-ES)\n",
    "\n",
    "## Misc\n",
    "### FTRL (Follow The Regularized Leader)\n",
    "### Yogi Optimizer\n",
    "### RAdam (Rectified Adam)\n",
    "### Lookahead Optimizer\n",
    "\n",
    "# Scheduler\n",
    "## Basic\n",
    "### Step Decay\n",
    "### Exponential Decay\n",
    "### Polynomial Decay\n",
    "\n",
    "## Advanced\n",
    "### Cyclical Learning Rate (CLR)\n",
    "### One Cycle Policy\n",
    "### Cosine Annealing\n",
    "### ReduceLROnPlateau\n",
    "\n",
    "## Warmup\n",
    "### Linear Warmup\n",
    "### Exponential Warmup\n",
    "### Gradual Warmup"
   ]
  }
 ],
 "metadata": {
  "jupytext": {
   "formats": "md:myst",
   "text_representation": {
    "extension": ".md",
    "format_name": "myst"
   }
  },
  "kernelspec": {
   "display_name": "Python 3",
   "language": "python",
   "name": "python3"
  },
  "language_info": {
   "codemirror_mode": {
    "name": "ipython",
    "version": 3
   },
   "file_extension": ".py",
   "mimetype": "text/x-python",
   "name": "python",
   "nbconvert_exporter": "python",
   "pygments_lexer": "ipython3",
   "version": "3.10.12"
  },
  "source_map": [
   11
  ]
 },
 "nbformat": 4,
 "nbformat_minor": 5
}