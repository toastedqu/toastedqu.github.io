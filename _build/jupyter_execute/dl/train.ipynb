{
 "cells": [
  {
   "cell_type": "markdown",
   "id": "f47d77e5",
   "metadata": {},
   "source": [
    "# Training\n",
    "## Weight Initialization\n",
    "### Zero Initialization\n",
    "### Random Initialization\n",
    "### He Initialization\n",
    "### Xavier/Glorot Initialization\n",
    "\n",
    "## Gradient Clipping\n",
    "\n",
    "## Early Stopping\n",
    "\n",
    "## Checkpointing\n",
    "\n",
    "## Weight Regularization\n",
    "\n",
    "## Hyperparameter Tuning\n",
    "### Grid Search\n",
    "### Random Search\n",
    "### Bayesian Optimization\n",
    "### Hyperband\n",
    "\n",
    "## Transfer Learning\n",
    "### Pre-training\n",
    "### Fine-tuning\n",
    "\n",
    "## Distributed Training\n",
    "### Data Parallelism\n",
    "### Model Parallelism\n",
    "### Distributed Training Frameworks\n",
    "\n",
    "## Mixed Precision Training\n",
    "\n",
    "## Model Compression\n",
    "### Pruning\n",
    "### Quantization\n",
    "### Knowledge Distillation"
   ]
  }
 ],
 "metadata": {
  "jupytext": {
   "formats": "md:myst",
   "text_representation": {
    "extension": ".md",
    "format_name": "myst"
   }
  },
  "kernelspec": {
   "display_name": "Python 3",
   "language": "python",
   "name": "python3"
  },
  "language_info": {
   "codemirror_mode": {
    "name": "ipython",
    "version": 3
   },
   "file_extension": ".py",
   "mimetype": "text/x-python",
   "name": "python",
   "nbconvert_exporter": "python",
   "pygments_lexer": "ipython3",
   "version": "3.10.12"
  },
  "source_map": [
   11
  ]
 },
 "nbformat": 4,
 "nbformat_minor": 5
}