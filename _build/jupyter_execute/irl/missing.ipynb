{
 "cells": [
  {
   "cell_type": "markdown",
   "id": "4a832d0c",
   "metadata": {},
   "source": [
    "# Computer Science IRL\n",
    "This page consists of my study notes of MIT's [missing-semester](https://missing.csail.mit.edu/) course on practical CS. \n",
    "\n",
    "# Shell\n",
    "**Concepts**:\n",
    "- Shell: A textual interface & a programming environment.\n",
    "- Absolute path: A path that starts with `/`.\n",
    "- Relative path: A path that doesn't start with `/`.\n",
    "- `$PATH`: An environment variable that lists which directories the shell should search for programs when given a command.\n",
    "    - We can directly execute a program by typing its path in the command, without adding it to `$PATH`.\n",
    "\n",
    "**Notations**:\n",
    "| Notation | Description |\n",
    "|:--------:|:------------|\n",
    "| `$`      | NOT the root user. |\n",
    "| `~`      | Root directory. |\n",
    "| `/`      | Root. |\n",
    "| `.`      | Current directory. |\n",
    "| `..`     | Parent directory. |\n",
    "| `-`/`--` | Flag. |\n",
    "| `r`      | Read permission. |\n",
    "| `w`      | Write permission. |\n",
    "| `x`      | Execute permission. |\n",
    "| `drwxr-xr--` | This is a directory.<br>The owner has `rwx` permissions.<br>The owning group has `r-x` permissions.<br>Everyone else has `r--` permissions. |\n",
    "| `< file` | Read the input of the program from the file. |\n",
    "| `> file` | Write the output of the program into the file. |\n",
    "| `>> file` | Append the output of the program to the file. |\n",
    "| `\\|` | Take the output of the left as the input of the right. |\n",
    "| `/sys` | A Linux-only folder with a number of kernel parameters as files. |\n",
    "\n",
    "\n",
    "**Commands**:\n",
    "| Command | Description |\n",
    "|:-------:|:------------|\n",
    "| `echo`  | Print the argument. |\n",
    "| `which` | Print the file path for the given program. |\n",
    "| `pwd`   | Print the current working directory. |\n",
    "| `cd`    | Change directory. |\n",
    "| `ls`    | Print the contents of the current directory. |\n",
    "| `mv`    | Move/Rename a file. |\n",
    "| `cp`    | Copy a file. |\n",
    "| `rm`    | Remove a file. (`-r`: Remove a directory) |\n",
    "| `mkdir` | Make a new directory. |\n",
    "| `man`   | Open the manual of the given program. |\n",
    "| `cat`   | Concatenate (with many functionalities). |\n",
    "| `tail`  | Print the last n lines of the input. |\n",
    "| `sudo`  | Do something as super user. |\n",
    "| `xdg-open` | Open a file/URL. |"
   ]
  }
 ],
 "metadata": {
  "jupytext": {
   "formats": "md:myst",
   "text_representation": {
    "extension": ".md",
    "format_name": "myst"
   }
  },
  "kernelspec": {
   "display_name": "Python 3",
   "language": "python",
   "name": "python3"
  },
  "language_info": {
   "codemirror_mode": {
    "name": "ipython",
    "version": 3
   },
   "file_extension": ".py",
   "mimetype": "text/x-python",
   "name": "python",
   "nbconvert_exporter": "python",
   "pygments_lexer": "ipython3",
   "version": "3.10.12"
  },
  "source_map": [
   11
  ]
 },
 "nbformat": 4,
 "nbformat_minor": 5
}