{
 "cells": [
  {
   "cell_type": "markdown",
   "id": "300faebb",
   "metadata": {},
   "source": [
    "# Clustering\n",
    "## K-means\n",
    "## Gaussian Mixture Models\n",
    "## Spectral\n",
    "## Hierarchical\n",
    "### Agglomerative\n",
    "### Divisive\n",
    "## DBSCAN\n",
    "\n",
    "# Matrix Factorization\n",
    "## Singular Value Decomposition\n",
    "## Principal Component Analysis\n",
    "## Independent Component Analysis\n",
    "## Non-Negative Matrix Factorization\n",
    "## Latent Dirichlet Allocation\\\n",
    "\n",
    "# Manifold Learning\n",
    "## t-SNE\n",
    "## UMAP\n",
    "## Factor Analysis\n",
    "\n",
    "# Anomaly Detection\n",
    "## Distance-Based Methods\n",
    "## Density-Based Methods\n",
    "\n",
    "# Association Rule Learning\n",
    "## Apriori Algorithm\n",
    "## Eclat Algorithm\n",
    "## FP-Growth Algorithm"
   ]
  }
 ],
 "metadata": {
  "jupytext": {
   "formats": "md:myst",
   "text_representation": {
    "extension": ".md",
    "format_name": "myst"
   }
  },
  "kernelspec": {
   "display_name": "Python 3",
   "language": "python",
   "name": "python3"
  },
  "language_info": {
   "codemirror_mode": {
    "name": "ipython",
    "version": 3
   },
   "file_extension": ".py",
   "mimetype": "text/x-python",
   "name": "python",
   "nbconvert_exporter": "python",
   "pygments_lexer": "ipython3",
   "version": "3.10.12"
  },
  "source_map": [
   11
  ]
 },
 "nbformat": 4,
 "nbformat_minor": 5
}