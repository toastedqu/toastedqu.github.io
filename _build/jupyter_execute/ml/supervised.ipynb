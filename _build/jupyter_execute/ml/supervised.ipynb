{
 "cells": [
  {
   "cell_type": "markdown",
   "id": "3373e604",
   "metadata": {},
   "source": [
    "# Linear Models\n",
    "## Linear Regression\n",
    "## Logistic Regression\n",
    "## Generalized Linear Models\n",
    "\n",
    "# Naive Bayes\n",
    "\n",
    "# Nearest Neighbors\n",
    "\n",
    "# Support Vector Machine\n",
    "\n",
    "# Gaussian Process\n",
    "\n",
    "# Decision Tree\n",
    "\n",
    "# Ensemble Methods\n",
    "## Random Forests\n",
    "## Gradient Boosting\n",
    "## XGBoost\n",
    "## LightGBM\n",
    "\n",
    "# Semi-Supervised\n",
    "## Self-Training\n",
    "## Co-Training and Multi-View Learning\n",
    "\n",
    "# Self-Supervised\n",
    "## Contrastive Learning\n",
    "## Predictive Coding\n",
    "\n",
    "# Online Learning\n",
    "## Perceptron\n",
    "## Passive-Aggressive\n",
    "## MIRA"
   ]
  }
 ],
 "metadata": {
  "jupytext": {
   "formats": "md:myst",
   "text_representation": {
    "extension": ".md",
    "format_name": "myst"
   }
  },
  "kernelspec": {
   "display_name": "Python 3",
   "language": "python",
   "name": "python3"
  },
  "language_info": {
   "codemirror_mode": {
    "name": "ipython",
    "version": 3
   },
   "file_extension": ".py",
   "mimetype": "text/x-python",
   "name": "python",
   "nbconvert_exporter": "python",
   "pygments_lexer": "ipython3",
   "version": "3.10.12"
  },
  "source_map": [
   11
  ]
 },
 "nbformat": 4,
 "nbformat_minor": 5
}