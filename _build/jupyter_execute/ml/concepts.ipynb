{
 "cells": [
  {
   "cell_type": "markdown",
   "id": "a6dbcb0c",
   "metadata": {},
   "source": [
    "# Concepts\n",
    "# Cross-Validation\n",
    "## k-Fold Cross-Validation\n",
    "## Leave-One-Out Cross-Validation\n",
    "## Stratified Cross-Validation\n",
    "\n",
    "# Model Validation\n",
    "## Holdout\n",
    "## Bootstrapping\n",
    "\n",
    "# Class Imbalance\n",
    "## Resampling\n",
    "## Synthetic Data Generation (SMOTE, ADASYN)\n",
    "\n",
    "# Hyperparameter Tuning\n",
    "## Grid Search\n",
    "## Random Search\n",
    "## Bayesian Optimization\n",
    "## Hyperband\n",
    "\n",
    "# Advanced Topics\n",
    "## Robustness to Adversarial Attacks\n",
    "## Federated Learning\n",
    "## Interpretability in Complex Models\n",
    "## Causal Inference in Machine Learning"
   ]
  }
 ],
 "metadata": {
  "jupytext": {
   "formats": "md:myst",
   "text_representation": {
    "extension": ".md",
    "format_name": "myst"
   }
  },
  "kernelspec": {
   "display_name": "Python 3",
   "language": "python",
   "name": "python3"
  },
  "language_info": {
   "codemirror_mode": {
    "name": "ipython",
    "version": 3
   },
   "file_extension": ".py",
   "mimetype": "text/x-python",
   "name": "python",
   "nbconvert_exporter": "python",
   "pygments_lexer": "ipython3",
   "version": "3.10.12"
  },
  "source_map": [
   11
  ]
 },
 "nbformat": 4,
 "nbformat_minor": 5
}