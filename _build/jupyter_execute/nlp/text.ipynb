{
 "cells": [
  {
   "cell_type": "markdown",
   "id": "9b09ca56",
   "metadata": {},
   "source": [
    "# Linguistics\n",
    "   - Morphology: Words and Their Components\n",
    "   - Syntax: Sentence Structure\n",
    "   - Semantics: Meaning Representation\n",
    "   - Pragmatics: Contextual Language Understanding\n",
    "   - Lexical Semantics: Word Sense Disambiguation\n",
    "\n",
    "# Statistical NLP\n",
    "   - Probability Theory in NLP\n",
    "   - Statistical Language Models\n",
    "   - N-grams\n",
    "   - Smoothing Techniques\n",
    "   - Information Theory in NLP: Entropy, Mutual Information\n",
    "\n",
    "# Text Preprocessing\n",
    "   - Tokenization\n",
    "   - Normalization: Stemming, Lemmatization\n",
    "   - Stopword Removal\n",
    "   - Named Entity Recognition (NER)\n",
    "   - Part-of-Speech (POS) Tagging\n",
    "   - Dependency Parsing\n",
    "\n",
    "# Vector Space Models of Semantics\n",
    "   - Word Embeddings: Word2Vec, GloVe\n",
    "   - Distributional Semantics\n",
    "   - Dimensionality Reduction: SVD, PCA\n",
    "   - Contextual Embeddings: ELMo, BERT, GPT\n",
    "\n",
    "# Language Models and Sequence Modeling\n",
    "   - Traditional Language Models: N-gram, Hidden Markov Models (HMM)\n",
    "   - Recurrent Neural Networks (RNNs) and Variants\n",
    "     - Long Short-Term Memory (LSTM)\n",
    "     - Gated Recurrent Units (GRUs)"
   ]
  }
 ],
 "metadata": {
  "jupytext": {
   "formats": "md:myst",
   "text_representation": {
    "extension": ".md",
    "format_name": "myst"
   }
  },
  "kernelspec": {
   "display_name": "Python 3",
   "language": "python",
   "name": "python3"
  },
  "language_info": {
   "codemirror_mode": {
    "name": "ipython",
    "version": 3
   },
   "file_extension": ".py",
   "mimetype": "text/x-python",
   "name": "python",
   "nbconvert_exporter": "python",
   "pygments_lexer": "ipython3",
   "version": "3.10.12"
  },
  "source_map": [
   11
  ]
 },
 "nbformat": 4,
 "nbformat_minor": 5
}